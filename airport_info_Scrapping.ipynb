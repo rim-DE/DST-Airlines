{
 "cells": [
  {
   "cell_type": "markdown",
   "metadata": {},
   "source": [
    "### Cette démonstration ne prend en compte que la première page de la liste des aéroports commençant par B. Il n'a pas encore été généralisé aux autres pages et peut ne pas fonctionner lors de la récupération des données  sur d'autres pages."
   ]
  },
  {
   "cell_type": "code",
   "execution_count": null,
   "metadata": {},
   "outputs": [],
   "source": [
    "from urllib.request import urlopen\n",
    "from bs4 import BeautifulSoup as bs\n",
    "import pandas as pd\n",
    "url_airport = \"https://www.world-airport-codes.com/alphabetical/airport-code/b.html?page=1\"\n",
    "page2 = urlopen(url_airport)\n",
    "soup2 = bs(page2, \"html.parser\")"
   ]
  },
  {
   "cell_type": "markdown",
   "metadata": {},
   "source": [
    "### Extraction du nom de l'aéroport"
   ]
  },
  {
   "cell_type": "code",
   "execution_count": null,
   "metadata": {},
   "outputs": [],
   "source": [
    "airport_name = soup2.findAll('a')"
   ]
  },
  {
   "cell_type": "code",
   "execution_count": null,
   "metadata": {},
   "outputs": [],
   "source": [
    "for i in range(len(airport_name)):\n",
    "    print(i, airport_name[i].text, '/n')"
   ]
  },
  {
   "cell_type": "markdown",
   "metadata": {},
   "source": [
    "Les aéroports vont de l'indice de 49 à l'indice 148 (ce qui ne sera peut-etre pas le cas pour les autres pages et posera problème sur les autres pages). On remarque nous avons beaucoup de données superflues. Après élimination de ces données on obtient:"
   ]
  },
  {
   "cell_type": "code",
   "execution_count": null,
   "metadata": {},
   "outputs": [],
   "source": [
    "name = []\n",
    "for i in range(49,149):\n",
    "    name.append(airport_name[i].text)"
   ]
  },
  {
   "cell_type": "code",
   "execution_count": null,
   "metadata": {
    "scrolled": true
   },
   "outputs": [],
   "source": [
    "for i in range(len(name)):\n",
    "    print(name[i])"
   ]
  },
  {
   "cell_type": "markdown",
   "metadata": {},
   "source": [
    "### Extraction des infos des aéroports"
   ]
  },
  {
   "cell_type": "code",
   "execution_count": null,
   "metadata": {},
   "outputs": [],
   "source": [
    "airport_info = soup2.findAll('td')"
   ]
  },
  {
   "cell_type": "code",
   "execution_count": null,
   "metadata": {},
   "outputs": [],
   "source": [
    "for i in range(len(airport_info)):\n",
    "    print(i, airport_info[i].text, '/n')"
   ]
  },
  {
   "cell_type": "markdown",
   "metadata": {},
   "source": [
    "On remarque que les données sont regroupées 6 par 6: 0 à 5, 6 à 11, 12 à 17, 18 à 23 etc... "
   ]
  },
  {
   "cell_type": "code",
   "execution_count": null,
   "metadata": {},
   "outputs": [],
   "source": [
    "city_ = []\n",
    "country_ = []\n",
    "taille_ = []\n",
    "IATA_ = []\n",
    "\n",
    "for i in range(1,len(airport_info),6):\n",
    "    city_.append(airport_info[i].text)\n",
    "    \n",
    "for i in range(2,len(airport_info),6):\n",
    "    country_.append(airport_info[i].text)\n",
    "    \n",
    "for i in range(0,len(airport_info),6):\n",
    "    taille_.append(airport_info[i].text)\n",
    "    \n",
    "for i in range(3,len(airport_info),6):\n",
    "    IATA_.append(airport_info[i].text)"
   ]
  },
  {
   "cell_type": "code",
   "execution_count": null,
   "metadata": {},
   "outputs": [],
   "source": [
    "for frame in (city_, country_, taille_, IATA_):\n",
    "    print(frame[0:5],'\\n',len(frame), '\\n')"
   ]
  },
  {
   "cell_type": "markdown",
   "metadata": {},
   "source": [
    "Après quelles ont besoins de certaines corrections."
   ]
  },
  {
   "cell_type": "code",
   "execution_count": null,
   "metadata": {},
   "outputs": [],
   "source": [
    "city = []\n",
    "country = []\n",
    "taille = []\n",
    "IATA = []\n",
    "\n",
    "for i in range(1,len(airport_info),6):\n",
    "    city.append(airport_info[i].text if airport_info[i].text == '' else airport_info[i].text.split(':')[1].split(' ')[1])\n",
    "    \n",
    "for i in range(2,len(airport_info),6):\n",
    "    country.append(airport_info[i].text.split(':')[1])\n",
    "    \n",
    "for i in range(0,len(airport_info),6):\n",
    "    taille.append(airport_info[i].text.replace(' ','').split(':')[1].split('\\n')[1])\n",
    "    \n",
    "for i in range(3,len(airport_info),6):\n",
    "    IATA.append(airport_info[i].text.split(':')[1].split(' ')[1])"
   ]
  },
  {
   "cell_type": "code",
   "execution_count": null,
   "metadata": {},
   "outputs": [],
   "source": [
    "for frame in (city, country, taille, IATA):\n",
    "    print(frame[0:5],'\\n',len(frame), '\\n')"
   ]
  },
  {
   "cell_type": "markdown",
   "metadata": {},
   "source": [
    "Sur cette page il y a 100 aéroports. "
   ]
  },
  {
   "cell_type": "code",
   "execution_count": null,
   "metadata": {},
   "outputs": [],
   "source": [
    "\n",
    "donnees_aeroport = pd.DataFrame(list(zip(name, city, country, taille, IATA)), \n",
    "                       columns=['Aeroport', 'Ville', 'Pays', 'Taille', 'IATA'])\n",
    "donnees_aeroport.head(15)"
   ]
  }
 ],
 "metadata": {
  "kernelspec": {
   "display_name": "Python 3",
   "language": "python",
   "name": "python3"
  },
  "language_info": {
   "codemirror_mode": {
    "name": "ipython",
    "version": 3
   },
   "file_extension": ".py",
   "mimetype": "text/x-python",
   "name": "python",
   "nbconvert_exporter": "python",
   "pygments_lexer": "ipython3",
   "version": "3.7.4"
  }
 },
 "nbformat": 4,
 "nbformat_minor": 2
}
